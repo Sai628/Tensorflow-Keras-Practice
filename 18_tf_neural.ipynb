{
 "cells": [
  {
   "cell_type": "code",
   "execution_count": 1,
   "metadata": {},
   "outputs": [],
   "source": [
    "import warnings\n",
    "warnings.simplefilter(action='ignore')"
   ]
  },
  {
   "cell_type": "code",
   "execution_count": 2,
   "metadata": {},
   "outputs": [],
   "source": [
    "import tensorflow as tf\n",
    "import numpy as np\n",
    "import matplotlib.pyplot as plt"
   ]
  },
  {
   "cell_type": "markdown",
   "metadata": {},
   "source": [
    "### 1. 以矩阵运算仿真神经网络"
   ]
  },
  {
   "cell_type": "markdown",
   "metadata": {},
   "source": [
    "#### 1.1 y = relu((X * W) + b)"
   ]
  },
  {
   "cell_type": "code",
   "execution_count": 3,
   "metadata": {},
   "outputs": [
    {
     "name": "stdout",
     "output_type": "stream",
     "text": [
      "result: [[-0.35999998  0.28      ]]\n",
      "y: [[0.   0.28]]\n"
     ]
    }
   ],
   "source": [
    "X = tf.Variable([[0.4, 0.2, 0.4]])\n",
    "W = tf.Variable([\n",
    "    [-0.5, -0.2],\n",
    "    [-0.3, 0.4],\n",
    "    [-0.5, 0.2]\n",
    "])\n",
    "b = tf.Variable([[0.1, 0.2]])\n",
    "result = tf.matmul(X, W) + b\n",
    "y = tf.nn.relu(result)\n",
    "\n",
    "with tf.Session() as sess:\n",
    "    sess.run(tf.global_variables_initializer())\n",
    "    print('result:', sess.run(result))\n",
    "    print('y:', sess.run(y))"
   ]
  },
  {
   "cell_type": "markdown",
   "metadata": {},
   "source": [
    "#### 1.2 y = sigmoid((X * W) + b)"
   ]
  },
  {
   "cell_type": "code",
   "execution_count": 4,
   "metadata": {},
   "outputs": [
    {
     "name": "stdout",
     "output_type": "stream",
     "text": [
      "result: [[-0.35999998  0.28      ]]\n",
      "y: [[0.41095957 0.5695462 ]]\n"
     ]
    }
   ],
   "source": [
    "X = tf.Variable([[0.4, 0.2, 0.4]])\n",
    "W = tf.Variable([\n",
    "    [-0.5, -0.2],\n",
    "    [-0.3, 0.4],\n",
    "    [-0.5, 0.2]\n",
    "])\n",
    "b = tf.Variable([[0.1, 0.2]])\n",
    "result = tf.matmul(X, W) + b\n",
    "y = tf.nn.sigmoid(result)\n",
    "\n",
    "with tf.Session() as sess:\n",
    "    sess.run(tf.global_variables_initializer())\n",
    "    print('result:', sess.run(result))\n",
    "    print('y:', sess.run(y))"
   ]
  },
  {
   "cell_type": "markdown",
   "metadata": {},
   "source": [
    "#### 1.3 以正态分布的随机数生成权重与偏差的初始值"
   ]
  },
  {
   "cell_type": "code",
   "execution_count": 5,
   "metadata": {},
   "outputs": [
    {
     "name": "stdout",
     "output_type": "stream",
     "text": [
      "W: [[-2.075261    0.4418381 ]\n",
      " [-0.4115933   0.14172077]\n",
      " [ 1.1376783   0.5455061 ]]\n",
      "b: [[-0.7646976  0.7440777]]\n",
      "y: [[0.        1.1673596]]\n"
     ]
    }
   ],
   "source": [
    "X = tf.Variable([[0.4, 0.2, 0.4]])\n",
    "W = tf.Variable(tf.random_normal([3, 2]))\n",
    "b = tf.Variable(tf.random_normal([1, 2]))\n",
    "result = tf.matmul(X, W) + b\n",
    "y = tf.nn.relu(result)\n",
    "\n",
    "with tf.Session() as sess:\n",
    "    sess.run(tf.global_variables_initializer())\n",
    "    w_, b_, y_ = sess.run((W, b, y))\n",
    "    print('W:', w_)\n",
    "    print('b:', b_)\n",
    "    print('y:', y_)"
   ]
  },
  {
   "cell_type": "markdown",
   "metadata": {},
   "source": [
    "#### 1.4 正态分布的随机数 tf.random_normal"
   ]
  },
  {
   "cell_type": "code",
   "execution_count": 6,
   "metadata": {},
   "outputs": [
    {
     "name": "stdout",
     "output_type": "stream",
     "text": [
      "normal data length: 1000\n",
      "[-1.9249927  -1.4921683  -0.98833495 -0.9466415   1.0175036   0.7307655\n",
      " -1.0541631   0.813238    0.36450565  0.4377187  -0.69136196 -1.051614\n",
      "  0.44473353  0.11826661 -0.93143207  1.0840364   1.1706591   0.8179217\n",
      "  0.0826885   0.7686695   0.27023697  1.2993698   0.61665887  0.3910737\n",
      " -0.6657248  -0.87913203  1.6416286   0.34995267  0.7268337  -0.62023956]\n"
     ]
    }
   ],
   "source": [
    "normal_array = tf.random_normal([1000])\n",
    "with tf.Session() as sess:\n",
    "    normal_data = sess.run(normal_array)\n",
    "\n",
    "print('normal data length:', len(normal_data))\n",
    "print(normal_data[:30])"
   ]
  },
  {
   "cell_type": "code",
   "execution_count": 7,
   "metadata": {},
   "outputs": [
    {
     "data": {
      "image/png": "[encoded data removed]",
      "text/plain": [
       "<Figure size 432x288 with 1 Axes>"
      ]
     },
     "metadata": {},
     "output_type": "display_data"
    }
   ],
   "source": [
    "plt.hist(normal_data)\n",
    "plt.show()"
   ]
  },
  {
   "cell_type": "markdown",
   "metadata": {},
   "source": [
    "### 2. 以 placeholder 传入 X 值"
   ]
  },
  {
   "cell_type": "markdown",
   "metadata": {},
   "source": [
    "#### 2.1 以 placeholder 传入 1*3 的二维数组"
   ]
  },
  {
   "cell_type": "code",
   "execution_count": 8,
   "metadata": {},
   "outputs": [
    {
     "name": "stdout",
     "output_type": "stream",
     "text": [
      "W: [[ 1.5918082  -0.9832617 ]\n",
      " [-0.02635845 -0.20186134]\n",
      " [ 0.23869179 -0.29970053]]\n",
      "b: [[-1.3642514 -1.2061498]]\n",
      "y: [[0. 0.]]\n"
     ]
    }
   ],
   "source": [
    "X = tf.placeholder('float', [None, 3])\n",
    "W = tf.Variable(tf.random_normal([3, 2]))\n",
    "b = tf.Variable(tf.random_normal([1, 2]))\n",
    "result = tf.matmul(X, W) + b\n",
    "y = tf.nn.relu(result)\n",
    "\n",
    "with tf.Session() as sess:\n",
    "    sess.run(tf.global_variables_initializer())\n",
    "    x_array = np.array([[0.4, 0.2, 0.4]])\n",
    "    w_, b_, y_ = sess.run((W, b, y), feed_dict={X: x_array})\n",
    "    print('W:', w_)\n",
    "    print('b:', b_)\n",
    "    print('y:', y_)"
   ]
  },
  {
   "cell_type": "markdown",
   "metadata": {},
   "source": [
    "#### 2.2 以 placeholder 传入 3*3 的二维数组"
   ]
  },
  {
   "cell_type": "code",
   "execution_count": 9,
   "metadata": {},
   "outputs": [
    {
     "name": "stdout",
     "output_type": "stream",
     "text": [
      "W: [[-0.11468825  1.9673066 ]\n",
      " [-0.08138695 -0.48802418]\n",
      " [ 0.96089125 -0.6681382 ]]\n",
      "b: [[ 1.014417  -1.1596572]]\n",
      "y: [[0.79193366 0.32353035]\n",
      " [0.8065741  0.2499753 ]\n",
      " [0.81652975 0.32996914]]\n"
     ]
    }
   ],
   "source": [
    "X = tf.placeholder('float', [None, 3])\n",
    "W = tf.Variable(tf.random_normal([3, 2]))\n",
    "b = tf.Variable(tf.random_normal([1, 2]))\n",
    "result = tf.matmul(X, W) + b\n",
    "y = tf.nn.sigmoid(result)\n",
    "\n",
    "with tf.Session() as sess:\n",
    "    sess.run(tf.global_variables_initializer())\n",
    "    x_array = np.array([[0.4, 0.2, 0.4],\n",
    "                        [0.3, 0.4, 0.5],\n",
    "                        [0.3, -0.4, 0.5]])\n",
    "    w_, b_, y_ = sess.run((W, b, y), feed_dict={X: x_array})\n",
    "    print('W:', w_)\n",
    "    print('b:', b_)\n",
    "    print('y:', y_)"
   ]
  },
  {
   "cell_type": "markdown",
   "metadata": {},
   "source": [
    "### 3. 创建 layer 函数以矩阵运算仿真神经网络"
   ]
  },
  {
   "cell_type": "markdown",
   "metadata": {},
   "source": [
    "#### 3.1 定义 layer 函数"
   ]
  },
  {
   "cell_type": "code",
   "execution_count": 10,
   "metadata": {},
   "outputs": [],
   "source": [
    "def layer(output_dim, input_dim, inputs, activation=None):\n",
    "    W = tf.Variable(tf.random_normal([input_dim, output_dim]))\n",
    "    b = tf.Variable(tf.random_normal([1, output_dim]))\n",
    "    result = tf.matmul(inputs, W) + b\n",
    "    \n",
    "    if activation is None:\n",
    "        outputs = result\n",
    "    else:\n",
    "        outputs = activation(result)\n",
    "    \n",
    "    return outputs"
   ]
  },
  {
   "cell_type": "code",
   "execution_count": 11,
   "metadata": {},
   "outputs": [
    {
     "name": "stdout",
     "output_type": "stream",
     "text": [
      "X: [[ 0.4  0.2  0.4  0.1]\n",
      " [ 0.3  0.4  0.5  0.3]\n",
      " [ 0.3 -0.4  0.5  0.2]]\n",
      "y: [[1.4922328 0.        1.8698667]\n",
      " [1.2684783 0.        1.922584 ]\n",
      " [1.9266617 0.        1.3748204]]\n"
     ]
    }
   ],
   "source": [
    "X = tf.placeholder('float', [None, 4])\n",
    "y = layer(output_dim=3, input_dim=4, inputs=X, activation=tf.nn.relu)\n",
    "\n",
    "with tf.Session() as sess:\n",
    "    sess.run(tf.global_variables_initializer())\n",
    "    x_array = np.array([[0.4, 0.2, 0.4, 0.1],\n",
    "                        [0.3, 0.4, 0.5, 0.3],\n",
    "                        [0.3, -0.4, 0.5, 0.2]])\n",
    "    x_, y_ = sess.run((X, y), feed_dict={X: x_array})\n",
    "    print('X:', x_)\n",
    "    print('y:', y_)"
   ]
  },
  {
   "cell_type": "markdown",
   "metadata": {},
   "source": [
    "#### 3.2 使用 layer 函数建立3层神经网络"
   ]
  },
  {
   "cell_type": "code",
   "execution_count": 12,
   "metadata": {},
   "outputs": [
    {
     "name": "stdout",
     "output_type": "stream",
     "text": [
      "X: [[0.4 0.2 0.4 0.5]]\n",
      "h: [[2.3432775  2.0743177  0.61050224]]\n",
      "y: [[1.5198518  0.38232744]]\n"
     ]
    }
   ],
   "source": [
    "X = tf.placeholder('float', [None, 4])\n",
    "h = layer(output_dim=3, input_dim=4, inputs=X, activation=tf.nn.relu)\n",
    "y = layer(output_dim=2, input_dim=3, inputs=h)\n",
    "\n",
    "with tf.Session() as sess:\n",
    "    sess.run(tf.global_variables_initializer())\n",
    "    x_array = np.array([[0.4, 0.2, 0.4, 0.5]])\n",
    "    x_, h_, y_ = sess.run((X, h, y), feed_dict={X: x_array})\n",
    "    print('X:', x_)\n",
    "    print('h:', h_)\n",
    "    print('y:', y_)"
   ]
  },
  {
   "cell_type": "markdown",
   "metadata": {},
   "source": [
    "### 4. 创建 layer_debug 函数显示权重与偏差"
   ]
  },
  {
   "cell_type": "code",
   "execution_count": 13,
   "metadata": {},
   "outputs": [],
   "source": [
    "def layer_debug(output_dim, input_dim, inputs, activation=None):\n",
    "    W = tf.Variable(tf.random_normal([input_dim, output_dim]))\n",
    "    b = tf.Variable(tf.random_normal([1, output_dim]))\n",
    "    result = tf.matmul(inputs, W) + b\n",
    "    \n",
    "    if activation is None:\n",
    "        outputs = result\n",
    "    else:\n",
    "        outputs = activation(result)\n",
    "    \n",
    "    return outputs, W, b"
   ]
  },
  {
   "cell_type": "code",
   "execution_count": 14,
   "metadata": {},
   "outputs": [
    {
     "name": "stdout",
     "output_type": "stream",
     "text": [
      "X: [[0.4 0.2 0.4 0.5]]\n",
      "h: [[0.9840085 0.        0.       ]]\n",
      "W1: [[-0.93856984 -0.5609033  -0.68849075]\n",
      " [ 0.4549042  -0.6213276   0.42857125]\n",
      " [-0.8169483   1.1261041   0.26323652]\n",
      " [ 0.21705349 -1.0245273   1.1000092 ]]\n",
      "b1: [[ 1.4867082 -1.0011966 -0.766666 ]]\n",
      "y: [[-0.22585669 -2.174033  ]]\n",
      "W2: [[-0.53245366 -2.2362213 ]\n",
      " [ 0.68009377  1.047862  ]\n",
      " [ 0.23251943 -1.2658181 ]]\n",
      "b2: [[0.2980822  0.02642769]]\n"
     ]
    }
   ],
   "source": [
    "X = tf.placeholder('float', [None, 4])\n",
    "h, W1, b1 = layer_debug(output_dim=3, input_dim=4, inputs=X, activation=tf.nn.relu)\n",
    "y, W2, b2 = layer_debug(output_dim=2, input_dim=3, inputs=h)\n",
    "\n",
    "with tf.Session() as sess:\n",
    "    sess.run(tf.global_variables_initializer())\n",
    "    x_array = np.array([[0.4, 0.2, 0.4, 0.5]])\n",
    "    x_, h_, y_, w1_, b1_, w2_, b2_ = sess.run((X, h, y, W1, b1, W2, b2), feed_dict={X: x_array})\n",
    "    print('X:', x_)\n",
    "    print('h:', h_)\n",
    "    print('W1:', w1_)\n",
    "    print('b1:', b1_)\n",
    "    print('y:', y_)\n",
    "    print('W2:', w2_)\n",
    "    print('b2:', b2_)"
   ]
  }
 ],
 "metadata": {
  "kernelspec": {
   "display_name": "tensorflow-keras-practice",
   "language": "python",
   "name": "tensorflow-keras-practice"
  },
  "language_info": {
   "codemirror_mode": {
    "name": "ipython",
    "version": 3
   },
   "file_extension": ".py",
   "mimetype": "text/x-python",
   "name": "python",
   "nbconvert_exporter": "python",
   "pygments_lexer": "ipython3",
   "version": "3.6.5"
  }
 },
 "nbformat": 4,
 "nbformat_minor": 2
}
